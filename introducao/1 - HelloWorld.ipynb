{
 "cells": [
  {
   "cell_type": "markdown",
   "metadata": {},
   "source": [
    "# Introdução ao Python\n",
    "\n",
    "Aqui será apresentada algumas instruções da linguagem python.\n",
    "\n",
    "Vamos começar com o primeiro programa clássico de toda linguagem, imprimindo a mensagem \"Hello World\"."
   ]
  },
  {
   "cell_type": "code",
   "execution_count": 7,
   "metadata": {
    "vscode": {
     "languageId": "plaintext"
    }
   },
   "outputs": [
    {
     "name": "stdout",
     "output_type": "stream",
     "text": [
      "Hello World!\n"
     ]
    }
   ],
   "source": [
    "print(\"Hello World!\")"
   ]
  },
  {
   "cell_type": "markdown",
   "metadata": {},
   "source": [
    "## Variáveis\n",
    "\n",
    "Variáveis em Python não são **declaradas** como em outras linguagens, onde precisamos definir o tipo da variável. Em Python, as variáveis são criadas a partir da atribuição do seu valor.\n",
    "\n",
    "Vejamos agora alguns exemplos:"
   ]
  },
  {
   "cell_type": "code",
   "execution_count": 3,
   "metadata": {
    "vscode": {
     "languageId": "plaintext"
    }
   },
   "outputs": [
    {
     "data": {
      "text/plain": [
       "int"
      ]
     },
     "execution_count": 3,
     "metadata": {},
     "output_type": "execute_result"
    }
   ],
   "source": [
    "# Tipo inteiro\n",
    "idade = 47\n",
    "type(idade)"
   ]
  },
  {
   "cell_type": "code",
   "execution_count": 3,
   "metadata": {
    "vscode": {
     "languageId": "plaintext"
    }
   },
   "outputs": [
    {
     "data": {
      "text/plain": [
       "float"
      ]
     },
     "execution_count": 3,
     "metadata": {},
     "output_type": "execute_result"
    }
   ],
   "source": [
    "# Tipo real\n",
    "pi = 3.14159\n",
    "type(pi)"
   ]
  },
  {
   "cell_type": "code",
   "execution_count": 4,
   "metadata": {
    "vscode": {
     "languageId": "plaintext"
    }
   },
   "outputs": [
    {
     "data": {
      "text/plain": [
       "str"
      ]
     },
     "execution_count": 4,
     "metadata": {},
     "output_type": "execute_result"
    }
   ],
   "source": [
    "# Tipo string\n",
    "nome = 'Adailton Cerqueira Jr'\n",
    "type(nome)"
   ]
  },
  {
   "cell_type": "code",
   "execution_count": 5,
   "metadata": {
    "vscode": {
     "languageId": "plaintext"
    }
   },
   "outputs": [
    {
     "data": {
      "text/plain": [
       "bool"
      ]
     },
     "execution_count": 5,
     "metadata": {},
     "output_type": "execute_result"
    }
   ],
   "source": [
    "# Tipo booleano\n",
    "existe = True\n",
    "type(existe)"
   ]
  },
  {
   "cell_type": "markdown",
   "metadata": {},
   "source": [
    "## Tipo de dados\n",
    "\n",
    "Como vimos pela função **type()**, a variável possuí um tipo que classificamos como numérico e não numérico. Os numéricos são os números inteiros (int) e os reais (float) e os não numéricos são os lógicos (bool) e os textos (str).\n",
    "\n",
    "Também podemos verificar se uma variável é de um determinado tipo através da função **isinstance()**."
   ]
  },
  {
   "cell_type": "code",
   "execution_count": 6,
   "metadata": {},
   "outputs": [
    {
     "name": "stdout",
     "output_type": "stream",
     "text": [
      "True\n",
      "False\n",
      "True\n",
      "False\n",
      "True\n",
      "True\n"
     ]
    }
   ],
   "source": [
    "numero = 12\n",
    "valor = 5.37\n",
    "titulo = \"Introdução a Python\"\n",
    "aprovado = True\n",
    "\n",
    "print(isinstance(numero, int))\n",
    "print(isinstance(valor, int))\n",
    "print(isinstance(valor, float))\n",
    "print(isinstance(titulo, int))\n",
    "print(isinstance(titulo, str))\n",
    "print(isinstance(aprovado, bool))"
   ]
  },
  {
   "cell_type": "markdown",
   "metadata": {},
   "source": [
    "## Operadores Aritméticos\n",
    "\n",
    "| Operador | Significado   | Exemplo                    |\n",
    "|:---|:---|:---|\n",
    "|     +    | Adição        | a = 3 + 2                  |\n",
    "|     -    | Subtração     | b = 7 - a                  |\n",
    "|     *    | Multiplicação | c = a * b                  |\n",
    "|     /    | Divisão       | d = 10/3                   |\n",
    "|    //    | Quociente     | e = 10//3                  |\n",
    "|     %    | Resto         | f = 10%3                   |\n",
    "|    **    | Exponenciação | g = 2 ** 3                 |\n",
    "|    **    | Radiciação    | h = 16 ** (1/2)            |\n",
    "\n",
    "### Precedência de Operadores\n",
    "\n",
    "1. Parênteses\n",
    "2. Potenciação\n",
    "3. Multiplicação e divisão\n",
    "4. Soma e substração\n"
   ]
  },
  {
   "cell_type": "code",
   "execution_count": 28,
   "metadata": {},
   "outputs": [
    {
     "name": "stdout",
     "output_type": "stream",
     "text": [
      "Adição:\n",
      "  5\n",
      "+ 2\n",
      "===\n",
      "  7\n"
     ]
    }
   ],
   "source": [
    "resultado = 5 + 2\n",
    "print(\"Adição:\")\n",
    "print(\"  5\")\n",
    "print(\"+ 2\")\n",
    "print(\"=\"*3)\n",
    "print(\" \", resultado)"
   ]
  },
  {
   "cell_type": "code",
   "execution_count": 29,
   "metadata": {},
   "outputs": [
    {
     "name": "stdout",
     "output_type": "stream",
     "text": [
      "Subtração:\n",
      "  5\n",
      "- 2\n",
      "===\n",
      "  3\n"
     ]
    }
   ],
   "source": [
    "resultado = 5 - 2\n",
    "print(\"Subtração:\")\n",
    "print(\"  5\")\n",
    "print(\"- 2\")\n",
    "print(\"=\"*3)\n",
    "print(\" \", resultado)"
   ]
  },
  {
   "cell_type": "code",
   "execution_count": 31,
   "metadata": {},
   "outputs": [
    {
     "name": "stdout",
     "output_type": "stream",
     "text": [
      "Multiplicação:\n",
      "  5\n",
      "X 2\n",
      "===\n",
      " 10\n"
     ]
    }
   ],
   "source": [
    "resultado = 5 * 2\n",
    "print(\"Multiplicação:\")\n",
    "print(\"  5\")\n",
    "print(\"X 2\")\n",
    "print(\"=\"*3)\n",
    "print(\"\", resultado)"
   ]
  },
  {
   "cell_type": "code",
   "execution_count": 27,
   "metadata": {},
   "outputs": [
    {
     "name": "stdout",
     "output_type": "stream",
     "text": [
      "Divisão:\n",
      "  5\n",
      "/ 2\n",
      "===\n",
      "2.5\n"
     ]
    }
   ],
   "source": [
    "resultado = 5 / 2\n",
    "print(\"Divisão:\")\n",
    "print(\"  5\")\n",
    "print(\"/ 2\")\n",
    "print(\"=\"*3)\n",
    "print(resultado)"
   ]
  },
  {
   "cell_type": "code",
   "execution_count": 24,
   "metadata": {},
   "outputs": [
    {
     "name": "stdout",
     "output_type": "stream",
     "text": [
      "Divisão (Quociente):\n",
      "   3\n",
      "// 2\n",
      "====\n",
      "   2\n"
     ]
    }
   ],
   "source": [
    "resultado = 5 // 2\n",
    "print(\"Divisão (Quociente):\")\n",
    "print(\"   5\")\n",
    "print(\"// 2\")\n",
    "print(\"=\"*4)\n",
    "print(\"  \", resultado)"
   ]
  },
  {
   "cell_type": "code",
   "execution_count": 32,
   "metadata": {},
   "outputs": [
    {
     "name": "stdout",
     "output_type": "stream",
     "text": [
      "Divisão (Resto):\n",
      "  5\n",
      "% 2\n",
      "===\n",
      "  1\n"
     ]
    }
   ],
   "source": [
    "resultado = 5 % 2\n",
    "print(\"Divisão (Resto):\")\n",
    "print(\"  5\")\n",
    "print(\"% 2\")\n",
    "print(\"=\"*3)\n",
    "print(\" \", resultado)"
   ]
  },
  {
   "cell_type": "code",
   "execution_count": 33,
   "metadata": {},
   "outputs": [
    {
     "name": "stdout",
     "output_type": "stream",
     "text": [
      "Potencia:\n",
      "   5\n",
      "** 2\n",
      "====\n",
      "  25\n"
     ]
    }
   ],
   "source": [
    "resultado = 5 ** 2\n",
    "print(\"Potencia:\")\n",
    "print(\"   5\")\n",
    "print(\"** 2\")\n",
    "print(\"=\"*4)\n",
    "print(\" \", resultado)"
   ]
  },
  {
   "cell_type": "code",
   "execution_count": 43,
   "metadata": {},
   "outputs": [
    {
     "name": "stdout",
     "output_type": "stream",
     "text": [
      "Radiciação:\n",
      "      25\n",
      "** (1/2)\n",
      "========\n",
      "     5.0\n"
     ]
    }
   ],
   "source": [
    "resultado = 25 ** (1/2)\n",
    "print(\"Radiciação:\")\n",
    "print(\" \"*5, \"25\")\n",
    "print(\"** (1/2)\")\n",
    "print(\"=\"*8)\n",
    "print(\" \"*4, resultado)"
   ]
  },
  {
   "cell_type": "code",
   "execution_count": null,
   "metadata": {},
   "outputs": [],
   "source": []
  }
 ],
 "metadata": {
  "kernelspec": {
   "display_name": "Python 3 (ipykernel)",
   "language": "python",
   "name": "python3"
  },
  "language_info": {
   "codemirror_mode": {
    "name": "ipython",
    "version": 3
   },
   "file_extension": ".py",
   "mimetype": "text/x-python",
   "name": "python",
   "nbconvert_exporter": "python",
   "pygments_lexer": "ipython3",
   "version": "3.11.7"
  }
 },
 "nbformat": 4,
 "nbformat_minor": 4
}
