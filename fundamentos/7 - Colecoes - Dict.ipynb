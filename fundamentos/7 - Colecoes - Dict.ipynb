{
 "cells": [
  {
   "cell_type": "markdown",
   "metadata": {},
   "source": [
    "# Coleções no Python\n",
    "\n",
    "Coleções são estruturas de dados que podem armazenar múltiplos itens. Elas fornecem uma maneira de acessar e manipular os conjuntos de dados relacionados.\n",
    "\n",
    "As principais coleções do Python são listas (list), tuplas (tuple), conjuntos (set) e dicionários (dict).\n",
    "\n",
    "## Dicionários\n",
    "\n",
    "Dicionário ou dict é uma coleção de elementos que possuem uma chave e um valor, ou seja, ao invés de acessar os elementos através de um índice, usamos a chave."
   ]
  },
  {
   "cell_type": "code",
   "execution_count": null,
   "metadata": {},
   "outputs": [],
   "source": [
    "dicionario = {}\n",
    "type(dicionario)"
   ]
  },
  {
   "cell_type": "code",
   "execution_count": null,
   "metadata": {},
   "outputs": [],
   "source": [
    "dicionario2 = dict()\n",
    "isinstance(dicionario2, dict)"
   ]
  },
  {
   "cell_type": "code",
   "execution_count": null,
   "metadata": {},
   "outputs": [],
   "source": [
    "estados = { \"BA\": \"Bahia\", \"SE\": \"Sergipe\", \"SP\": \"São Paulo\", \"RJ\": \"Rio de Janeiro\", \"TO\": \"Tocantins\", \"SC\": \"Santa Catarina\"}\n",
    "estados"
   ]
  },
  {
   "cell_type": "code",
   "execution_count": null,
   "metadata": {},
   "outputs": [],
   "source": [
    "estados[\"BA\"]"
   ]
  },
  {
   "cell_type": "code",
   "execution_count": null,
   "metadata": {},
   "outputs": [],
   "source": [
    "estados[\"AM\"] # Essa instrução irá gerar uma exceção, pois a chave não existe"
   ]
  },
  {
   "cell_type": "code",
   "execution_count": null,
   "metadata": {},
   "outputs": [],
   "source": [
    "estados[\"AM\"] = \"amazonas\"\n",
    "estados"
   ]
  },
  {
   "cell_type": "code",
   "execution_count": null,
   "metadata": {},
   "outputs": [],
   "source": [
    "estados[\"AM\"] = \"Amazonas\"\n",
    "estados"
   ]
  },
  {
   "cell_type": "code",
   "execution_count": null,
   "metadata": {},
   "outputs": [],
   "source": [
    "estados = { \"BA\": \"Bahia\", \"SE\": \"Sergipe\", \"SP\": \"São Paulo\", \"RJ\": \"Rio de Janeiro\", \"TO\": \"Tocantins\", \"SC\": \"Santa Catarina\"}\n",
    "estados"
   ]
  },
  {
   "cell_type": "code",
   "execution_count": null,
   "metadata": {},
   "outputs": [],
   "source": [
    "estados[\"BA\"]"
   ]
  },
  {
   "cell_type": "code",
   "execution_count": null,
   "metadata": {},
   "outputs": [],
   "source": [
    "estados[\"BA\"][\"nome\"]"
   ]
  },
  {
   "cell_type": "code",
   "execution_count": null,
   "metadata": {},
   "outputs": [],
   "source": [
    "estados[\"AM\"] = {\"nome\": \"Amazonas\", \"regiao\": \"NE\", \"populacao\": 3941175}\n",
    "estados[\"AM\"]"
   ]
  },
  {
   "cell_type": "code",
   "execution_count": null,
   "metadata": {},
   "outputs": [],
   "source": [
    "estados[\"AM\"][\"regiao\"] = \"N\"\n",
    "estados[\"AM\"]"
   ]
  },
  {
   "cell_type": "markdown",
   "metadata": {},
   "source": [
    "### Métodos do Dicionário"
   ]
  },
  {
   "cell_type": "code",
   "execution_count": null,
   "metadata": {},
   "outputs": [],
   "source": [
    "estados = { \"BA\": {\"nome\": \"Bahia\", \"regiao\": \"NE\", \"populacao\": 14136417}, \"SE\": {\"nome\": \"Sergipe\", \"regiao\": \"NE\", \"populacao\": 2209558}, \"SP\": {\"nome\": \"São Paulo\", \"regiao\": \"SE\", \"populacao\": 44420459}, \"RJ\": {\"nome\": \"Rio de Janeiro\", \"regiao\": \"SE\", \"populacao\": 16054524}, \"TO\": {\"nome\": \"Tocantins\", \"regiao\": \"N\", \"populacao\": 1511459}, \"SC\": {\"nome\": \"Santa Catarina\", \"regiao\": \"S\", \"populacao\": 7609601}}\n",
    "estados"
   ]
  },
  {
   "cell_type": "code",
   "execution_count": null,
   "metadata": {},
   "outputs": [],
   "source": [
    "elementos_quimicos = { 1: \"Hidrogênio\", 2: \"Hélio\", 3: \"Lítio\", 4: \"Berílio\", 6: \"Carbono\"}\n",
    "elementos_quimicos"
   ]
  },
  {
   "cell_type": "code",
   "execution_count": null,
   "metadata": {},
   "outputs": [],
   "source": [
    "estados.get(\"BA\")"
   ]
  },
  {
   "cell_type": "code",
   "execution_count": null,
   "metadata": {},
   "outputs": [],
   "source": [
    "print(elementos_quimicos[2])\n",
    "print(elementos_quimicos.get(2))"
   ]
  },
  {
   "cell_type": "code",
   "execution_count": null,
   "metadata": {},
   "outputs": [],
   "source": [
    "elementos_quimicos.items()"
   ]
  },
  {
   "cell_type": "code",
   "execution_count": null,
   "metadata": {},
   "outputs": [],
   "source": [
    "elementos_quimicos.keys()"
   ]
  },
  {
   "cell_type": "code",
   "execution_count": null,
   "metadata": {},
   "outputs": [],
   "source": [
    "elementos_quimicos.values()"
   ]
  },
  {
   "cell_type": "code",
   "execution_count": null,
   "metadata": {},
   "outputs": [],
   "source": [
    "copia = elementos_quimicos.copy()\n",
    "copia"
   ]
  },
  {
   "cell_type": "code",
   "execution_count": null,
   "metadata": {},
   "outputs": [],
   "source": [
    "copia.clear()\n",
    "copia"
   ]
  },
  {
   "cell_type": "code",
   "execution_count": null,
   "metadata": {},
   "outputs": [],
   "source": [
    "numeros = dict.fromkeys([1, 2, 3, 4, 5])\n",
    "numeros"
   ]
  },
  {
   "cell_type": "code",
   "execution_count": null,
   "metadata": {},
   "outputs": [],
   "source": [
    "numero = numeros.pop(3)\n",
    "print(numero)\n",
    "numeros"
   ]
  },
  {
   "cell_type": "code",
   "execution_count": null,
   "metadata": {},
   "outputs": [],
   "source": [
    "numero = numeros.popitem()\n",
    "print(numero)\n",
    "numeros"
   ]
  },
  {
   "cell_type": "code",
   "execution_count": null,
   "metadata": {},
   "outputs": [],
   "source": [
    "numeros.setdefault(1)\n",
    "numeros"
   ]
  },
  {
   "cell_type": "code",
   "execution_count": null,
   "metadata": {},
   "outputs": [],
   "source": [
    "numeros.setdefault(3)\n",
    "numeros"
   ]
  },
  {
   "cell_type": "code",
   "execution_count": null,
   "metadata": {},
   "outputs": [],
   "source": [
    "numeros.setdefault(5, 'Cinco')\n",
    "numeros"
   ]
  },
  {
   "cell_type": "code",
   "execution_count": null,
   "metadata": {},
   "outputs": [],
   "source": [
    "numeros.setdefault(1, 'Um')\n",
    "numeros"
   ]
  },
  {
   "cell_type": "code",
   "execution_count": null,
   "metadata": {},
   "outputs": [],
   "source": [
    "elementos_quimicos = { 1: \"Hidrogênio\", 2: \"Hélio\", 3: \"Lítio\", 4: \"Berílio\", 6: \"Carbono\"}\n",
    "elementos_quimicos"
   ]
  },
  {
   "cell_type": "code",
   "execution_count": null,
   "metadata": {},
   "outputs": [],
   "source": [
    "novos_elementos = {5: \"Boro\", 7: \"Nitrogênio\", 8: \"Oxigênio\"}\n",
    "novos_elementos"
   ]
  },
  {
   "cell_type": "code",
   "execution_count": null,
   "metadata": {},
   "outputs": [],
   "source": [
    "elementos_quimicos.update(novos_elementos)\n",
    "elementos_quimicos"
   ]
  }
 ],
 "metadata": {
  "kernelspec": {
   "display_name": "Python 3",
   "language": "python",
   "name": "python3"
  },
  "language_info": {
   "codemirror_mode": {
    "name": "ipython",
    "version": 3
   },
   "file_extension": ".py",
   "mimetype": "text/x-python",
   "name": "python",
   "nbconvert_exporter": "python",
   "pygments_lexer": "ipython3",
   "version": "3.10.12"
  }
 },
 "nbformat": 4,
 "nbformat_minor": 2
}
