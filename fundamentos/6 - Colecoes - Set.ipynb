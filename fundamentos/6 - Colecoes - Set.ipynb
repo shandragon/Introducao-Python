{
 "cells": [
  {
   "cell_type": "markdown",
   "metadata": {},
   "source": [
    "# Coleções no Python\n",
    "\n",
    "Coleções são estruturas de dados que podem armazenar múltiplos itens. Elas fornecem uma maneira de acessar e manipular os conjuntos de dados relacionados.\n",
    "\n",
    "As principais coleções do Python são listas (list), tuplas (tuple), conjuntos (set) e dicionários (dict).\n",
    "\n",
    "## Conjuntos\n",
    "\n",
    "Conjunto ou set é uma coleção de elementos únicos, onde os elementos não são armazenados em uma ordem específica, ou seja, os conjuntos não suportam indexação como as listas e tuplas."
   ]
  },
  {
   "cell_type": "code",
   "execution_count": null,
   "metadata": {},
   "outputs": [],
   "source": [
    "conjunto = set()\n",
    "type(conjunto)"
   ]
  },
  {
   "cell_type": "code",
   "execution_count": null,
   "metadata": {},
   "outputs": [],
   "source": [
    "conjunto = {1, 3, 3, 5, 7, 9, 11, 11, 13}\n",
    "print(conjunto)\n",
    "type(conjunto)"
   ]
  },
  {
   "cell_type": "code",
   "execution_count": null,
   "metadata": {},
   "outputs": [],
   "source": [
    "conjunto_misto = {1, \"A\", 3.14}\n",
    "print(conjunto_misto)\n",
    "type(conjunto_misto)"
   ]
  },
  {
   "cell_type": "code",
   "execution_count": null,
   "metadata": {},
   "outputs": [],
   "source": [
    "# Set não podem conter outras estruturas aninhadas\n",
    "conjunto_misto = {1, \"ABC\", [1,2,3]} # Essa instrução irá gerar uma exceção, pois set não pode conter outras estruturas aninhadas"
   ]
  },
  {
   "cell_type": "code",
   "execution_count": null,
   "metadata": {},
   "outputs": [],
   "source": [
    "conjunto = {1, 3, 5, 7, 9, 11, 13}\n",
    "conjunto"
   ]
  },
  {
   "cell_type": "code",
   "execution_count": null,
   "metadata": {},
   "outputs": [],
   "source": [
    "conjunto[0] # Essa instrução irá gerar uma exceção, pois set não suportam indexação"
   ]
  },
  {
   "cell_type": "code",
   "execution_count": null,
   "metadata": {},
   "outputs": [],
   "source": [
    "# Para acessar um elemento no set precisamos do comando for\n",
    "for elemento in conjunto:\n",
    "    print(elemento)"
   ]
  },
  {
   "cell_type": "markdown",
   "metadata": {},
   "source": [
    "### Métodos do Set"
   ]
  },
  {
   "cell_type": "code",
   "execution_count": null,
   "metadata": {},
   "outputs": [],
   "source": [
    "conjunto = {1, 3, 5, 7, 9, 11, 13}\n",
    "conjunto"
   ]
  },
  {
   "cell_type": "code",
   "execution_count": null,
   "metadata": {},
   "outputs": [],
   "source": [
    "conjunto.add(15)\n",
    "conjunto"
   ]
  },
  {
   "cell_type": "code",
   "execution_count": null,
   "metadata": {},
   "outputs": [],
   "source": [
    "conjunto.add(3)\n",
    "conjunto"
   ]
  },
  {
   "cell_type": "code",
   "execution_count": null,
   "metadata": {},
   "outputs": [],
   "source": [
    "conjunto_copia = conjunto.copy()\n",
    "conjunto_copia"
   ]
  },
  {
   "cell_type": "code",
   "execution_count": null,
   "metadata": {},
   "outputs": [],
   "source": [
    "conjunto_copia.remove(3)\n",
    "conjunto_copia"
   ]
  },
  {
   "cell_type": "code",
   "execution_count": null,
   "metadata": {},
   "outputs": [],
   "source": [
    "conjunto_copia.remove(2) # Essa instrução irá gerar uma exceção, pois a função não remove um elemento que não existe"
   ]
  },
  {
   "cell_type": "code",
   "execution_count": null,
   "metadata": {},
   "outputs": [],
   "source": [
    "print(conjunto_copia)\n",
    "conjunto_copia.discard(7)\n",
    "conjunto_copia"
   ]
  },
  {
   "cell_type": "code",
   "execution_count": null,
   "metadata": {},
   "outputs": [],
   "source": [
    "conjunto_copia.discard(2) # Essa instrução não irá gerar uma exceção, pois a função discard não gera erro ao tentar remover um elemento que não existe\n",
    "conjunto_copia"
   ]
  },
  {
   "cell_type": "code",
   "execution_count": null,
   "metadata": {},
   "outputs": [],
   "source": [
    "conjunto_copia.clear()\n",
    "conjunto_copia"
   ]
  },
  {
   "cell_type": "code",
   "execution_count": null,
   "metadata": {},
   "outputs": [],
   "source": [
    "conjunto = {1, 3, 5, 7, 9, 11, 13}\n",
    "conjunto"
   ]
  },
  {
   "cell_type": "code",
   "execution_count": null,
   "metadata": {},
   "outputs": [],
   "source": [
    "conjunto2 = {1, 2, 3, 4, 5, 6, 7}\n",
    "conjunto2"
   ]
  },
  {
   "cell_type": "code",
   "execution_count": null,
   "metadata": {},
   "outputs": [],
   "source": [
    "conjunto3 = {0, 2, 4, 6, 8, 10, 12}\n",
    "conjunto3"
   ]
  },
  {
   "cell_type": "code",
   "execution_count": null,
   "metadata": {},
   "outputs": [],
   "source": [
    "print(conjunto)\n",
    "print(conjunto2)\n",
    "print(\"_\"*25)\n",
    "conjunto.difference(conjunto2)"
   ]
  },
  {
   "cell_type": "code",
   "execution_count": null,
   "metadata": {},
   "outputs": [],
   "source": [
    "print(conjunto)\n",
    "print(conjunto2)\n",
    "print(\"_\"*25)\n",
    "conjunto.symmetric_difference(conjunto2)"
   ]
  },
  {
   "cell_type": "code",
   "execution_count": null,
   "metadata": {},
   "outputs": [],
   "source": [
    "print(conjunto)\n",
    "print(conjunto2)\n",
    "print(\"_\"*25)\n",
    "conjunto.intersection(conjunto2)"
   ]
  },
  {
   "cell_type": "code",
   "execution_count": null,
   "metadata": {},
   "outputs": [],
   "source": [
    "print(conjunto)\n",
    "print(conjunto2)\n",
    "conjunto.isdisjoint(conjunto2)"
   ]
  },
  {
   "cell_type": "code",
   "execution_count": null,
   "metadata": {},
   "outputs": [],
   "source": [
    "print(conjunto)\n",
    "print(conjunto3)\n",
    "conjunto.isdisjoint(conjunto3)"
   ]
  },
  {
   "cell_type": "code",
   "execution_count": null,
   "metadata": {},
   "outputs": [],
   "source": [
    "print(conjunto)\n",
    "print(conjunto2)\n",
    "conjunto2.issubset(conjunto)"
   ]
  },
  {
   "cell_type": "code",
   "execution_count": null,
   "metadata": {},
   "outputs": [],
   "source": [
    "conjunto4 = {1, 3, 5, 7}\n",
    "print(conjunto)\n",
    "print(conjunto4)\n",
    "conjunto4.issubset(conjunto)"
   ]
  },
  {
   "cell_type": "code",
   "execution_count": null,
   "metadata": {},
   "outputs": [],
   "source": [
    "print(conjunto)\n",
    "print(conjunto2)\n",
    "conjunto.issuperset(conjunto2)"
   ]
  },
  {
   "cell_type": "code",
   "execution_count": null,
   "metadata": {},
   "outputs": [],
   "source": [
    "print(conjunto)\n",
    "print(conjunto4)\n",
    "conjunto.issuperset(conjunto4)"
   ]
  },
  {
   "cell_type": "code",
   "execution_count": null,
   "metadata": {},
   "outputs": [],
   "source": [
    "print(conjunto)\n",
    "print(conjunto3)\n",
    "print(\"_\"*25)\n",
    "conjunto.union(conjunto3)"
   ]
  },
  {
   "cell_type": "markdown",
   "metadata": {},
   "source": [
    "### Funções aplicáveis a set"
   ]
  },
  {
   "cell_type": "code",
   "execution_count": null,
   "metadata": {},
   "outputs": [],
   "source": [
    "conjunto = {1, 3, 5, 7, 9, 11, 13}\n",
    "conjunto"
   ]
  },
  {
   "cell_type": "code",
   "execution_count": null,
   "metadata": {},
   "outputs": [],
   "source": [
    "len(conjunto)"
   ]
  },
  {
   "cell_type": "code",
   "execution_count": null,
   "metadata": {},
   "outputs": [],
   "source": [
    "max(conjunto)"
   ]
  },
  {
   "cell_type": "code",
   "execution_count": null,
   "metadata": {},
   "outputs": [],
   "source": [
    "min(conjunto)"
   ]
  },
  {
   "cell_type": "code",
   "execution_count": null,
   "metadata": {},
   "outputs": [],
   "source": [
    "sum(conjunto)"
   ]
  }
 ],
 "metadata": {
  "kernelspec": {
   "display_name": "Python 3",
   "language": "python",
   "name": "python3"
  },
  "language_info": {
   "codemirror_mode": {
    "name": "ipython",
    "version": 3
   },
   "file_extension": ".py",
   "mimetype": "text/x-python",
   "name": "python",
   "nbconvert_exporter": "python",
   "pygments_lexer": "ipython3",
   "version": "3.10.12"
  }
 },
 "nbformat": 4,
 "nbformat_minor": 2
}
