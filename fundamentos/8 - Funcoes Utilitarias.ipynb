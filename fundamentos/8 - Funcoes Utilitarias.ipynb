{
 "cells": [
  {
   "cell_type": "markdown",
   "metadata": {},
   "source": [
    "# Funções Utilitarias\n",
    "\n",
    "São funções disponíveis na biblioteca padrão e são projetadas para realizar tarefas comum de forma eficiente e conveniente.\n",
    "\n",
    "Apresentaremos algumas dessas funções"
   ]
  },
  {
   "cell_type": "markdown",
   "metadata": {},
   "source": [
    "### map()\n",
    "\n",
    "Faz o mapeamento de uma entrada para uma saída.\n",
    "\n",
    "Recebe dois parâmetros: uma função e uma coleção."
   ]
  },
  {
   "cell_type": "code",
   "execution_count": null,
   "metadata": {},
   "outputs": [],
   "source": [
    "# Conversão temperaturas Celsius em Fahrenheit\n",
    "def fahrenheit(celsius):\n",
    "    return (9/5)*celsius + 32"
   ]
  },
  {
   "cell_type": "code",
   "execution_count": null,
   "metadata": {},
   "outputs": [],
   "source": [
    "temperatura = [0, 22, 27, 73, -10, -32, 32]\n",
    "temperatura_convertida = list(map(fahrenheit, temperatura))\n",
    "print(temperatura_convertida)"
   ]
  },
  {
   "cell_type": "code",
   "execution_count": null,
   "metadata": {},
   "outputs": [],
   "source": [
    "# Podemos fazer isso utilizando uma função lambda\n",
    "temperatura = [0, 22, 27, 73, -10, -32, 32]\n",
    "temperatura_convertida = list(map(lambda celsius: (9/5)*celsius + 32, temperatura))\n",
    "print(temperatura_convertida)"
   ]
  },
  {
   "cell_type": "markdown",
   "metadata": {},
   "source": [
    "### filter()\n",
    "\n",
    "Aplica um filtro na estrutura de dados, retornando apenas os elementos que passaram pelo filtro.\n",
    "\n",
    "Recebe dois parâmetros: uma função e uma coleção."
   ]
  },
  {
   "cell_type": "code",
   "execution_count": null,
   "metadata": {},
   "outputs": [],
   "source": [
    "def is_par(numero):\n",
    "    if numero % 2 == 0:\n",
    "        return True\n",
    "    else:\n",
    "        return False"
   ]
  },
  {
   "cell_type": "code",
   "execution_count": null,
   "metadata": {},
   "outputs": [],
   "source": [
    "par = list(filter(is_par, range(20)))\n",
    "par"
   ]
  },
  {
   "cell_type": "code",
   "execution_count": null,
   "metadata": {},
   "outputs": [],
   "source": [
    "# Podemos fazer isso utilizando uma função lambda\n",
    "par = list(filter(lambda numero: True if numero % 2 == 0 else False, range(20)))\n",
    "par"
   ]
  },
  {
   "cell_type": "markdown",
   "metadata": {},
   "source": [
    "### zip()\n",
    "\n",
    "Esta função combina dados de múltiplas coleções, de modo que o i-ésimo elemento da tupla contenha o i-ésimo elemento de cada coleção recebido como parâmetro. A iteração é interrompida quando todos os elementos da menor coleção tiverem sido percorridos."
   ]
  },
  {
   "cell_type": "code",
   "execution_count": null,
   "metadata": {},
   "outputs": [],
   "source": [
    "lista1 = [1, 2, 3]\n",
    "lista2 = [4, 5, 6]\n",
    "lista3 = [7, 8, 9, 10, 11]\n",
    "print(list(zip(lista1, lista2)))\n",
    "print(list(zip(lista1, lista2, lista3)))"
   ]
  },
  {
   "cell_type": "code",
   "execution_count": null,
   "metadata": {},
   "outputs": [],
   "source": [
    "nomes = [\"Hidrogênio\", \"Hélio\", \"Lítio\", \"Berílio\", \"Boro\", \"Carbono\", \"Nitrogênio\", \"Oxigênio\"]\n",
    "siglas = [\"H\", \"He\", \"Li\", \"Be\", \"B\", \"C\", \"N\", \"O\"]\n",
    "numeros = [1, 2, 3, 4, 5, 6, 7, 8]\n",
    "elementos_quimicos = list(zip(numeros, siglas, nomes))\n",
    "elementos_quimicos\n"
   ]
  }
 ],
 "metadata": {
  "kernelspec": {
   "display_name": "Python 3",
   "language": "python",
   "name": "python3"
  },
  "language_info": {
   "codemirror_mode": {
    "name": "ipython",
    "version": 3
   },
   "file_extension": ".py",
   "mimetype": "text/x-python",
   "name": "python",
   "nbconvert_exporter": "python",
   "pygments_lexer": "ipython3",
   "version": "3.10.12"
  }
 },
 "nbformat": 4,
 "nbformat_minor": 2
}
