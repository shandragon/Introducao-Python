{
 "cells": [
  {
   "cell_type": "markdown",
   "metadata": {},
   "source": [
    "# Estrutura de Controle\n",
    "\n",
    "## Estrutura condicional"
   ]
  },
  {
   "cell_type": "code",
   "execution_count": null,
   "metadata": {},
   "outputs": [],
   "source": [
    "x = 2\n",
    "y = 3\n",
    "\n",
    "if x < y:\n",
    "    print(\"{} é menor que {}.\".format(x, y))"
   ]
  },
  {
   "cell_type": "code",
   "execution_count": null,
   "metadata": {},
   "outputs": [],
   "source": [
    "x = 5\n",
    "y = 3\n",
    "\n",
    "if x < y:\n",
    "    print(\"{} é menor que {}.\".format(x, y))\n",
    "else:\n",
    "    print(\"{} é maior ou igual a {}.\".format(x, y))"
   ]
  },
  {
   "cell_type": "code",
   "execution_count": null,
   "metadata": {},
   "outputs": [],
   "source": [
    "x = 5\n",
    "y = 5\n",
    "\n",
    "if x < y:\n",
    "    print(\"{} é menor que {}.\".format(x, y))\n",
    "else:\n",
    "    if x == y:\n",
    "        print(\"{} é igual a {}.\".format(x, y))\n",
    "    else:\n",
    "        print(\"{} é maior que {}.\".format(x, y))"
   ]
  },
  {
   "cell_type": "code",
   "execution_count": null,
   "metadata": {},
   "outputs": [],
   "source": [
    "x = int(input(\"Digite o valor de x: \"))\n",
    "y = int(input(\"Digite o valor de y: \"))\n",
    "\n",
    "if x < y:\n",
    "    print(\"{} é menor que {}.\".format(x, y))\n",
    "elif x == y:\n",
    "    print(\"{} é igual a {}.\".format(x, y))\n",
    "else:\n",
    "    print(\"{} é maior que {}.\".format(x, y))"
   ]
  },
  {
   "cell_type": "code",
   "execution_count": null,
   "metadata": {},
   "outputs": [],
   "source": [
    "x = 3\n",
    "y = 2\n",
    "\n",
    "print(x) if x > y else print(y) # Operador ternário"
   ]
  },
  {
   "cell_type": "code",
   "execution_count": null,
   "metadata": {},
   "outputs": [],
   "source": [
    "x = int(input(\"Digite o valor de x: \"))\n",
    "y = int(input(\"Digite o valor de y: \"))\n",
    "\n",
    "maior = (x) if x > y else (y) # Operador ternário\n",
    "print(\"{} é maior.\".format(maior))"
   ]
  },
  {
   "cell_type": "markdown",
   "metadata": {},
   "source": [
    "## Estrutura de seleção"
   ]
  },
  {
   "cell_type": "code",
   "execution_count": null,
   "metadata": {},
   "outputs": [],
   "source": [
    "opcao = input('Escolha uma opção entre \"a\", \"b\" ou \"c\": ')\n",
    "\n",
    "# Sintaxe 'match-case' foi introduzia a partir da versão 3.10 do Python\n",
    "match opcao:\n",
    "        case 'a':\n",
    "            print(\"Selecione uma opção 'a'\")\n",
    "        case 'b':\n",
    "            print(\"Selecione uma opção 'b'\")\n",
    "        case 'c':\n",
    "            print(\"Selecione uma opção 'c'\")\n",
    "        case _:\n",
    "            print(\"Opção não reconhecido\")"
   ]
  },
  {
   "cell_type": "markdown",
   "metadata": {},
   "source": [
    "#### Podemos verificar qual a versão do Python utilizando o módulo 'sys'"
   ]
  },
  {
   "cell_type": "code",
   "execution_count": null,
   "metadata": {},
   "outputs": [],
   "source": [
    "import sys\n",
    "\n",
    "print(sys.version)"
   ]
  },
  {
   "cell_type": "markdown",
   "metadata": {},
   "source": [
    "## Estrutura de repetição\n",
    "\n",
    "### Comando while"
   ]
  },
  {
   "cell_type": "code",
   "execution_count": null,
   "metadata": {},
   "outputs": [],
   "source": [
    "count = 0\n",
    "\n",
    "while count < 5:\n",
    "    print(\"Contagem {}\".format(count))\n",
    "    count = count + 1;"
   ]
  },
  {
   "cell_type": "code",
   "execution_count": null,
   "metadata": {},
   "outputs": [],
   "source": [
    "count = 5\n",
    "\n",
    "while count > 0:\n",
    "    print(\"Contagem regressiva {}\".format(count))\n",
    "    count = count - 1;"
   ]
  },
  {
   "cell_type": "code",
   "execution_count": null,
   "metadata": {},
   "outputs": [],
   "source": [
    "count = 5\n",
    "\n",
    "while count > 0:\n",
    "    print(\"Contagem regressiva {}\".format(count))\n",
    "    count = count + 1; # Isso irá gerar um loop infinito\n",
    "    if (count > 100000): # Essa instrução foi colocada para interromper o loop infinito do nosso teste\n",
    "        break"
   ]
  },
  {
   "cell_type": "code",
   "execution_count": null,
   "metadata": {},
   "outputs": [],
   "source": [
    "opcao = int(input('Digite um número ou -1 para sair:'))\n",
    "\n",
    "while (opcao != -1):\n",
    "    print(\"Numero digitado foi {}\".format(opcao))\n",
    "    opcao = int(input('Digite um número ou -1 para sair:'))"
   ]
  },
  {
   "cell_type": "markdown",
   "metadata": {},
   "source": [
    "### Comando for"
   ]
  },
  {
   "cell_type": "code",
   "execution_count": null,
   "metadata": {},
   "outputs": [],
   "source": [
    "numeros = [1, 2, 3, 4, 5, 6, 7]\n",
    "for num in numeros:\n",
    "    print(num)"
   ]
  },
  {
   "cell_type": "code",
   "execution_count": null,
   "metadata": {},
   "outputs": [],
   "source": [
    "for num in numeros:\n",
    "    if num % 2 == 0:\n",
    "        print (\"{} é par.\".format(num))\n",
    "    else:\n",
    "        print(num,\"é ímpar.\")"
   ]
  },
  {
   "cell_type": "code",
   "execution_count": null,
   "metadata": {},
   "outputs": [],
   "source": [
    "string = \"Hello World\"\n",
    "\n",
    "for letra in string:\n",
    "    print(letra)"
   ]
  },
  {
   "cell_type": "markdown",
   "metadata": {},
   "source": [
    "### Função range()\n",
    "\n",
    "A função range é utilizada para gerar uma sequência de números.\n",
    "\n",
    "``` python\n",
    "range(inicio, fim, passo)\n",
    "```\n",
    "\n",
    "Onde:\n",
    "\n",
    "- **inicio**: O número inicial da sequência (opcional). Se não for fornecido, o valor padrão é 0.\n",
    "- **fim**: O número de parada da sequência (obrigatório). A sequência irá até, mas não incluindo, esse número.\n",
    "- **passo**: O tamanho do intervalo entre os números (opcional). Se não for fornecido, o valor padrão é 1.\n"
   ]
  },
  {
   "cell_type": "code",
   "execution_count": null,
   "metadata": {},
   "outputs": [],
   "source": [
    "# Gera uma sequência até 9 (fim - 1)\n",
    "for i in range(10):\n",
    "    print(i)"
   ]
  },
  {
   "cell_type": "code",
   "execution_count": null,
   "metadata": {},
   "outputs": [],
   "source": [
    "# Gera uma sequência iniciada em 5 até 9 (fim - 1)\n",
    "for i in range(5, 10):\n",
    "    print(i)"
   ]
  },
  {
   "cell_type": "code",
   "execution_count": null,
   "metadata": {},
   "outputs": [],
   "source": [
    "# Gera uma sequência iniciada em 0 até 10 (fim - 1) pulando de dois em dois\n",
    "for i in range(0, 11, 2):\n",
    "    print(i)"
   ]
  },
  {
   "cell_type": "code",
   "execution_count": null,
   "metadata": {},
   "outputs": [],
   "source": [
    "# Gera uma sequência iniciada em 10 até 1 (fim - 1)\n",
    "for i in range(10, 0, -1):\n",
    "    print(i)"
   ]
  },
  {
   "cell_type": "markdown",
   "metadata": {},
   "source": [
    "### Comprehensions\n",
    "\n",
    "```python\n",
    "saida = [expressão for var in entrada]\n",
    "\n",
    "saida = [expressão for var in entrada if condição]\n",
    "```"
   ]
  },
  {
   "cell_type": "code",
   "execution_count": null,
   "metadata": {},
   "outputs": [],
   "source": [
    "lista = [numero for numero in range(11)]\n",
    "lista"
   ]
  },
  {
   "cell_type": "code",
   "execution_count": null,
   "metadata": {},
   "outputs": [],
   "source": [
    "lista = [numero for numero in range(11) if (numero % 2) == 0]\n",
    "lista"
   ]
  }
 ],
 "metadata": {
  "kernelspec": {
   "display_name": "Python 3",
   "language": "python",
   "name": "python3"
  },
  "language_info": {
   "codemirror_mode": {
    "name": "ipython",
    "version": 3
   },
   "file_extension": ".py",
   "mimetype": "text/x-python",
   "name": "python",
   "nbconvert_exporter": "python",
   "pygments_lexer": "ipython3",
   "version": "3.10.12"
  }
 },
 "nbformat": 4,
 "nbformat_minor": 2
}
