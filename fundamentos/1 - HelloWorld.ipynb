{
 "cells": [
  {
   "cell_type": "markdown",
   "metadata": {},
   "source": [
    "# Introdução ao Python\n",
    "\n",
    "Aqui será apresentada algumas instruções da linguagem python.\n",
    "\n",
    "Vamos começar com o primeiro programa clássico de toda linguagem, imprimindo a mensagem \"Hello World\"."
   ]
  },
  {
   "cell_type": "code",
   "execution_count": null,
   "metadata": {},
   "outputs": [],
   "source": [
    "print(\"Hello World!\")"
   ]
  },
  {
   "cell_type": "markdown",
   "metadata": {},
   "source": [
    "## Comentário\n",
    "\n",
    "Um comentário é um texto que será ignorado pelo compilador ou interpretador. Ele tem o intuito de auxiliar o desenvolvedor a explicar aquele trecho do código.\n",
    "\n",
    "Para escrever comentário em Python podemos utilizar o caractere # ou aspas triplas.\n",
    "\n",
    "O caractere # é utilizado para criar comentário de uma única linha.\n",
    "\n",
    "As aspas triplas são utilizadas para criar comentário em bloco."
   ]
  },
  {
   "cell_type": "code",
   "execution_count": null,
   "metadata": {},
   "outputs": [],
   "source": [
    "# Este é um comentário em Python\n",
    "print(\"Hello World!\")"
   ]
  },
  {
   "cell_type": "code",
   "execution_count": null,
   "metadata": {},
   "outputs": [],
   "source": [
    "''' \n",
    "Este é um comentário\n",
    "em bloco\n",
    "no Python\n",
    "'''\n",
    "print(\"Hello World!\")"
   ]
  },
  {
   "cell_type": "markdown",
   "metadata": {},
   "source": [
    "## Variáveis\n",
    "\n",
    "Variáveis em Python não são **declaradas** como em outras linguagens, onde precisamos definir o tipo da variável. Em Python, as variáveis são criadas a partir da atribuição do seu valor.\n",
    "\n",
    "Vejamos agora alguns exemplos:"
   ]
  },
  {
   "cell_type": "code",
   "execution_count": null,
   "metadata": {},
   "outputs": [],
   "source": [
    "# Tipo inteiro\n",
    "idade = 47\n",
    "type(idade)"
   ]
  },
  {
   "cell_type": "code",
   "execution_count": null,
   "metadata": {},
   "outputs": [],
   "source": [
    "# Tipo real\n",
    "pi = 3.14159\n",
    "type(pi)"
   ]
  },
  {
   "cell_type": "code",
   "execution_count": null,
   "metadata": {},
   "outputs": [],
   "source": [
    "# Tipo string\n",
    "nome = 'Adailton Cerqueira Jr'\n",
    "type(nome)"
   ]
  },
  {
   "cell_type": "code",
   "execution_count": null,
   "metadata": {},
   "outputs": [],
   "source": [
    "# Tipo booleano\n",
    "existe = True\n",
    "type(existe)"
   ]
  },
  {
   "cell_type": "markdown",
   "metadata": {},
   "source": [
    "## Tipo de dados\n",
    "\n",
    "Como vimos pela função **type()**, a variável possuí um tipo que classificamos como numérico e não numérico. Os numéricos são os números inteiros (int) e os reais (float) e os não numéricos são os lógicos (bool) e os textos (str).\n",
    "\n",
    "Também podemos verificar se uma variável é de um determinado tipo através da função **isinstance()**."
   ]
  },
  {
   "cell_type": "code",
   "execution_count": null,
   "metadata": {},
   "outputs": [],
   "source": [
    "numero = 12\n",
    "valor = 5.37\n",
    "titulo = \"Introdução a Python\"\n",
    "aprovado = True\n",
    "\n",
    "print(isinstance(numero, int))\n",
    "print(isinstance(valor, int))\n",
    "print(isinstance(valor, float))\n",
    "print(isinstance(titulo, int))\n",
    "print(isinstance(titulo, str))\n",
    "print(isinstance(aprovado, bool))"
   ]
  },
  {
   "cell_type": "markdown",
   "metadata": {},
   "source": [
    "## Operadores Aritméticos\n",
    "\n",
    "| Operador | Significado   | Exemplo                    |\n",
    "|:---|:---|:---|\n",
    "|     +    | Adição        | a = 3 + 2                  |\n",
    "|     -    | Subtração     | b = 7 - a                  |\n",
    "|     *    | Multiplicação | c = a * b                  |\n",
    "|     /    | Divisão       | d = 10/3                   |\n",
    "|    //    | Quociente     | e = 10//3                  |\n",
    "|     %    | Resto         | f = 10%3                   |\n",
    "|    **    | Exponenciação | g = 2 ** 3                 |\n",
    "|    **    | Radiciação    | h = 16 ** (1/2)            |\n",
    "\n",
    "### Precedência de Operadores\n",
    "\n",
    "1. Parênteses\n",
    "2. Potenciação\n",
    "3. Multiplicação e divisão\n",
    "4. Soma e substração\n"
   ]
  },
  {
   "cell_type": "code",
   "execution_count": null,
   "metadata": {},
   "outputs": [],
   "source": [
    "resultado = 5 + 2\n",
    "print(\"Adição:\")\n",
    "print(\"  5\")\n",
    "print(\"+ 2\")\n",
    "print(\"=\"*3)\n",
    "print(\" \", resultado)"
   ]
  },
  {
   "cell_type": "code",
   "execution_count": null,
   "metadata": {},
   "outputs": [],
   "source": [
    "resultado = 5 - 2\n",
    "print(\"Subtração:\")\n",
    "print(\"  5\")\n",
    "print(\"- 2\")\n",
    "print(\"=\"*3)\n",
    "print(\" \", resultado)"
   ]
  },
  {
   "cell_type": "code",
   "execution_count": null,
   "metadata": {},
   "outputs": [],
   "source": [
    "resultado = 5 * 2\n",
    "print(\"Multiplicação:\")\n",
    "print(\"  5\")\n",
    "print(\"X 2\")\n",
    "print(\"=\"*3)\n",
    "print(\"\", resultado)"
   ]
  },
  {
   "cell_type": "code",
   "execution_count": null,
   "metadata": {},
   "outputs": [],
   "source": [
    "resultado = 5 / 2\n",
    "print(\"Divisão:\")\n",
    "print(\"  5\")\n",
    "print(\"/ 2\")\n",
    "print(\"=\"*3)\n",
    "print(resultado)"
   ]
  },
  {
   "cell_type": "code",
   "execution_count": null,
   "metadata": {},
   "outputs": [],
   "source": [
    "resultado = 5 // 2\n",
    "print(\"Divisão (Quociente):\")\n",
    "print(\"   5\")\n",
    "print(\"// 2\")\n",
    "print(\"=\"*4)\n",
    "print(\"  \", resultado)"
   ]
  },
  {
   "cell_type": "code",
   "execution_count": null,
   "metadata": {},
   "outputs": [],
   "source": [
    "resultado = 5 % 2\n",
    "print(\"Divisão (Resto):\")\n",
    "print(\"  5\")\n",
    "print(\"% 2\")\n",
    "print(\"=\"*3)\n",
    "print(\" \", resultado)"
   ]
  },
  {
   "cell_type": "code",
   "execution_count": null,
   "metadata": {},
   "outputs": [],
   "source": [
    "resultado = 5 ** 2\n",
    "print(\"Potencia:\")\n",
    "print(\"   5\")\n",
    "print(\"** 2\")\n",
    "print(\"=\"*4)\n",
    "print(\" \", resultado)"
   ]
  },
  {
   "cell_type": "code",
   "execution_count": null,
   "metadata": {},
   "outputs": [],
   "source": [
    "resultado = 25 ** (1/2)\n",
    "print(\"Radiciação:\")\n",
    "print(\" \"*5, \"25\")\n",
    "print(\"** (1/2)\")\n",
    "print(\"=\"*8)\n",
    "print(\" \"*4, resultado)"
   ]
  },
  {
   "cell_type": "markdown",
   "metadata": {},
   "source": [
    "# Operadores de atribuição\n",
    "\n",
    "\n",
    "| Operador | Exemplo | Significado |\n",
    "|:---|:---|:---|\n",
    "|     =    | a = 5 | Atribuição simples |\n",
    "| += | a += 2 | a = a + 2 |\n",
    "| -= | a -= 2 | a = a - 2 |\n",
    "| \\*= | a \\*= 2 | a = a \\* 2 |\n",
    "| /= | a /= 2 | a = a / 2 |\n",
    "| //= | a //= 2 | a = a // 2 |\n",
    "| %= | a %= 2 | a = a % 2 |\n",
    "| \\*\\*= | a \\*\\*= 2 | a = a \\*\\* 2 |"
   ]
  },
  {
   "cell_type": "code",
   "execution_count": null,
   "metadata": {},
   "outputs": [],
   "source": [
    "numero = 5\n",
    "numero"
   ]
  },
  {
   "cell_type": "code",
   "execution_count": null,
   "metadata": {},
   "outputs": [],
   "source": [
    "numero += 2\n",
    "numero"
   ]
  },
  {
   "cell_type": "code",
   "execution_count": null,
   "metadata": {},
   "outputs": [],
   "source": [
    "numero -=2\n",
    "numero"
   ]
  },
  {
   "cell_type": "code",
   "execution_count": null,
   "metadata": {},
   "outputs": [],
   "source": [
    "numero *= 2\n",
    "numero"
   ]
  },
  {
   "cell_type": "code",
   "execution_count": null,
   "metadata": {},
   "outputs": [],
   "source": [
    "numero /= 2\n",
    "numero"
   ]
  },
  {
   "cell_type": "code",
   "execution_count": null,
   "metadata": {},
   "outputs": [],
   "source": [
    "numero //= 2\n",
    "numero"
   ]
  },
  {
   "cell_type": "code",
   "execution_count": null,
   "metadata": {},
   "outputs": [],
   "source": [
    "numero = 5\n",
    "numero %= 2\n",
    "numero"
   ]
  },
  {
   "cell_type": "code",
   "execution_count": null,
   "metadata": {},
   "outputs": [],
   "source": [
    "numero = 5\n",
    "numero **= 2\n",
    "numero"
   ]
  },
  {
   "cell_type": "markdown",
   "metadata": {},
   "source": [
    "# Operadores relacionais\n",
    "\n",
    "| Operador | Significado   | Exemplo                    |\n",
    "|:---|:---|:---|\n",
    "| == | Igualdade | a == b |\n",
    "| != | DesiIgualdade | a != b |\n",
    "| > | Maior que | a > b |\n",
    "| < | Menor que | a < b |\n",
    "| >= | Maior ou igual | a >= b |\n",
    "| <= | Menor ou igual | a <= b |"
   ]
  },
  {
   "cell_type": "code",
   "execution_count": null,
   "metadata": {},
   "outputs": [],
   "source": [
    "variavel1 = 2\n",
    "variavel2 = 5\n",
    "variavel1 == variavel2"
   ]
  },
  {
   "cell_type": "code",
   "execution_count": null,
   "metadata": {},
   "outputs": [],
   "source": [
    "variavel1 != variavel2"
   ]
  },
  {
   "cell_type": "code",
   "execution_count": null,
   "metadata": {},
   "outputs": [],
   "source": [
    "variavel1 > variavel2"
   ]
  },
  {
   "cell_type": "code",
   "execution_count": null,
   "metadata": {},
   "outputs": [],
   "source": [
    "variavel1 >= variavel2"
   ]
  },
  {
   "cell_type": "code",
   "execution_count": null,
   "metadata": {},
   "outputs": [],
   "source": [
    "variavel1 < variavel2"
   ]
  },
  {
   "cell_type": "code",
   "execution_count": null,
   "metadata": {},
   "outputs": [],
   "source": [
    "variavel1 <= variavel2"
   ]
  },
  {
   "cell_type": "markdown",
   "metadata": {},
   "source": [
    "# Operadores de identidade\n",
    "\n",
    "| Operador | Significado   | Exemplo                    |\n",
    "|:---|:---|:---|\n",
    "| is | Verifica se duas referências apontam para o mesmo objeto | a is b |\n",
    "| is not | Verifica se duas referências apontam para diferentes objetos | a is not b |"
   ]
  },
  {
   "cell_type": "code",
   "execution_count": null,
   "metadata": {},
   "outputs": [],
   "source": [
    "a = 5\n",
    "b = 5\n",
    "c = a\n",
    "print(\"a is b = \", a is b)\n",
    "print(\"a is c = \", a is c)\n",
    "print(\"b is c = \", b is c)\n",
    "print(\"a is not b = \", a is not b)\n",
    "print(\"a is not c = \", a is not c)\n",
    "print(\"b is not c = \", b is not c)"
   ]
  },
  {
   "cell_type": "markdown",
   "metadata": {},
   "source": [
    "# Operadores lógicos\n",
    "\n",
    "| Operador | Significado   | Exemplo                    |\n",
    "|:---|:---|:---|\n",
    "| and | **E** lógico | a == b and b == c |\n",
    "| or | **OU** lógico | a == b or b == c |\n",
    "| ^ | **OU** exclusivo (XOR) | a == b ^ b == c |\n",
    "| not | Negação (inverte o resultado lógico) | not(a == b and b == c) |"
   ]
  },
  {
   "cell_type": "code",
   "execution_count": null,
   "metadata": {},
   "outputs": [],
   "source": [
    "variavel1 = 2\n",
    "variavel2 = 5\n",
    "variavel3 = 2"
   ]
  },
  {
   "cell_type": "code",
   "execution_count": null,
   "metadata": {},
   "outputs": [],
   "source": [
    "variavel1 == variavel2 and variavel1 == variavel3"
   ]
  },
  {
   "cell_type": "code",
   "execution_count": null,
   "metadata": {},
   "outputs": [],
   "source": [
    "variavel1 == variavel2 or variavel1 == variavel3"
   ]
  },
  {
   "cell_type": "code",
   "execution_count": null,
   "metadata": {},
   "outputs": [],
   "source": [
    "variavel1 == variavel2 ^ variavel1 == variavel3"
   ]
  },
  {
   "cell_type": "code",
   "execution_count": null,
   "metadata": {},
   "outputs": [],
   "source": [
    "not (variavel1 == variavel2 and variavel1 == variavel3)"
   ]
  },
  {
   "cell_type": "markdown",
   "metadata": {},
   "source": [
    "## Tabelas verdade\n",
    "\n",
    "Abaixo temos algumas tabelas verdade dos operadores lógicos apresentados acima:"
   ]
  },
  {
   "cell_type": "code",
   "execution_count": null,
   "metadata": {},
   "outputs": [],
   "source": [
    "# Tabela verdade do AND\n",
    "print(\" x     | y     | x and y \")\n",
    "print(\"-------------------------\")\n",
    "print(\" True  | True  |\", True and True )\n",
    "print(\" True  | False |\", True and False )\n",
    "print(\" False | True  |\", False and True)\n",
    "print(\" False | False |\", False and False)"
   ]
  },
  {
   "cell_type": "code",
   "execution_count": null,
   "metadata": {},
   "outputs": [],
   "source": [
    "# Tabela verdade do OR\n",
    "print(\" x     | y     | x or y \")\n",
    "print(\"-------------------------\")\n",
    "print(\" True  | True  |\", True or True )\n",
    "print(\" True  | False |\", True or False )\n",
    "print(\" False | True  |\", False or True)\n",
    "print(\" False | False |\", False or False)"
   ]
  },
  {
   "cell_type": "code",
   "execution_count": null,
   "metadata": {},
   "outputs": [],
   "source": [
    "# Tabela verdade do XOR\n",
    "print(\" x     | y     | x ^ y \")\n",
    "print(\"-------------------------\")\n",
    "print(\" True  | True  |\", True ^ True )\n",
    "print(\" True  | False |\", True ^ False )\n",
    "print(\" False | True  |\", False ^ True)\n",
    "print(\" False | False |\", False ^ False)"
   ]
  },
  {
   "cell_type": "code",
   "execution_count": null,
   "metadata": {},
   "outputs": [],
   "source": [
    "# Tabela verdade do NOT\n",
    "print(\" x     | not x \")\n",
    "print(\"----------------\")\n",
    "print(\" True  |\", not True)\n",
    "print(\" False |\", not False)"
   ]
  },
  {
   "cell_type": "markdown",
   "metadata": {},
   "source": [
    "## Funções\n",
    "\n",
    "```python\n",
    "def func(lista_de_parâmetros):\n",
    "    \"\"\"\n",
    "    Documentation String\n",
    "    \"\"\"\n",
    "    bloco de comandos\n",
    "    return # opcional\n",
    "```"
   ]
  },
  {
   "cell_type": "code",
   "execution_count": 4,
   "metadata": {},
   "outputs": [],
   "source": [
    "def imprimir(string):\n",
    "    '''\n",
    "    Este é o docstring da função imprimir\n",
    "    Função que imprimi o valor passado por parâmetro\n",
    "    '''\n",
    "    print('Imprimir: ', string)"
   ]
  },
  {
   "cell_type": "code",
   "execution_count": 5,
   "metadata": {},
   "outputs": [
    {
     "name": "stdout",
     "output_type": "stream",
     "text": [
      "Imprimir:  5\n"
     ]
    }
   ],
   "source": [
    "imprimir(5)"
   ]
  },
  {
   "cell_type": "code",
   "execution_count": 6,
   "metadata": {},
   "outputs": [
    {
     "name": "stdout",
     "output_type": "stream",
     "text": [
      "Imprimir:  Hello World\n"
     ]
    }
   ],
   "source": [
    "imprimir(\"Hello World\")"
   ]
  },
  {
   "cell_type": "code",
   "execution_count": 7,
   "metadata": {},
   "outputs": [],
   "source": [
    "def incremento(num):\n",
    "    ''' Função para incrementar um número '''\n",
    "    return num + 1;"
   ]
  },
  {
   "cell_type": "code",
   "execution_count": 10,
   "metadata": {},
   "outputs": [
    {
     "data": {
      "text/plain": [
       "4"
      ]
     },
     "execution_count": 10,
     "metadata": {},
     "output_type": "execute_result"
    }
   ],
   "source": [
    "retorno = incremento(3)\n",
    "retorno"
   ]
  },
  {
   "cell_type": "code",
   "execution_count": 14,
   "metadata": {},
   "outputs": [],
   "source": [
    "def potencia(base, expoente):\n",
    "    ''' Função para elevar um número a uma potência'''\n",
    "    return base ** expoente"
   ]
  },
  {
   "cell_type": "code",
   "execution_count": 15,
   "metadata": {},
   "outputs": [
    {
     "data": {
      "text/plain": [
       "256"
      ]
     },
     "execution_count": 15,
     "metadata": {},
     "output_type": "execute_result"
    }
   ],
   "source": [
    "valor = potencia(2, 8) # Argumentos posicionais\n",
    "valor"
   ]
  },
  {
   "cell_type": "code",
   "execution_count": 16,
   "metadata": {},
   "outputs": [
    {
     "data": {
      "text/plain": [
       "256"
      ]
     },
     "execution_count": 16,
     "metadata": {},
     "output_type": "execute_result"
    }
   ],
   "source": [
    "valor = potencia(expoente=8, base=2) # Argumentos nomeados\n",
    "valor"
   ]
  },
  {
   "cell_type": "code",
   "execution_count": 17,
   "metadata": {},
   "outputs": [],
   "source": [
    "def potenciaDefault(base, expoente = 2):\n",
    "    ''' Função para elevar um número a uma potência'''\n",
    "    return base ** expoente"
   ]
  },
  {
   "cell_type": "code",
   "execution_count": 19,
   "metadata": {},
   "outputs": [
    {
     "data": {
      "text/plain": [
       "25"
      ]
     },
     "execution_count": 19,
     "metadata": {},
     "output_type": "execute_result"
    }
   ],
   "source": [
    "valor = potenciaDefault(5, 2)\n",
    "valor"
   ]
  },
  {
   "cell_type": "code",
   "execution_count": 20,
   "metadata": {},
   "outputs": [
    {
     "data": {
      "text/plain": [
       "25"
      ]
     },
     "execution_count": 20,
     "metadata": {},
     "output_type": "execute_result"
    }
   ],
   "source": [
    "valor = potenciaDefault(5)\n",
    "valor"
   ]
  },
  {
   "cell_type": "code",
   "execution_count": 21,
   "metadata": {},
   "outputs": [
    {
     "data": {
      "text/plain": [
       "25"
      ]
     },
     "execution_count": 21,
     "metadata": {},
     "output_type": "execute_result"
    }
   ],
   "source": [
    "valor = potenciaDefault(base=5)\n",
    "valor"
   ]
  },
  {
   "cell_type": "code",
   "execution_count": 22,
   "metadata": {},
   "outputs": [
    {
     "data": {
      "text/plain": [
       "125"
      ]
     },
     "execution_count": 22,
     "metadata": {},
     "output_type": "execute_result"
    }
   ],
   "source": [
    "valor = potenciaDefault(5, 3)\n",
    "valor"
   ]
  },
  {
   "cell_type": "code",
   "execution_count": 25,
   "metadata": {},
   "outputs": [],
   "source": [
    "def soma(*nums):\n",
    "    \"\"\"\n",
    "    Exemplo de função sem quantidade de parâmetros pré-definido\n",
    "    \"\"\"\n",
    "    soma = 0\n",
    "    for num in nums:\n",
    "        soma += num\n",
    "    return soma"
   ]
  },
  {
   "cell_type": "code",
   "execution_count": 26,
   "metadata": {},
   "outputs": [
    {
     "data": {
      "text/plain": [
       "10"
      ]
     },
     "execution_count": 26,
     "metadata": {},
     "output_type": "execute_result"
    }
   ],
   "source": [
    "soma(2, 5, 3)"
   ]
  },
  {
   "cell_type": "code",
   "execution_count": null,
   "metadata": {},
   "outputs": [],
   "source": []
  }
 ],
 "metadata": {
  "kernelspec": {
   "display_name": "Python 3 (ipykernel)",
   "language": "python",
   "name": "python3"
  },
  "language_info": {
   "codemirror_mode": {
    "name": "ipython",
    "version": 3
   },
   "file_extension": ".py",
   "mimetype": "text/x-python",
   "name": "python",
   "nbconvert_exporter": "python",
   "pygments_lexer": "ipython3",
   "version": "3.10.12"
  }
 },
 "nbformat": 4,
 "nbformat_minor": 4
}
